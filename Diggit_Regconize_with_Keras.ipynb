{
 "cells": [
  {
   "cell_type": "code",
   "execution_count": 26,
   "metadata": {},
   "outputs": [],
   "source": [
    "from keras.datasets import mnist\n",
    "from keras.preprocessing.image import ImageDataGenerator\n",
    "from keras.models import Sequential , load_model\n",
    "from keras.layers import Dense, Dropout, Flatten, Conv2D, MaxPooling2D , Activation\n",
    "import matplotlib.pyplot as plt"
   ]
  },
  {
   "cell_type": "code",
   "execution_count": 9,
   "metadata": {
    "collapsed": true
   },
   "outputs": [],
   "source": [
    "batch_size = 64\n",
    "num_classes = 10\n",
    "epochs = 30\n",
    "img_h, img_w = 28, 28   # image dimensions\n",
    "\n",
    "# load the data\n",
    "(X_train, y_train), (X_test, y_test) = mnist.load_data()"
   ]
  },
  {
   "cell_type": "code",
   "execution_count": 33,
   "metadata": {},
   "outputs": [
    {
     "name": "stdout",
     "output_type": "stream",
     "text": [
      "(60000, 784)\n",
      "(60000,)\n"
     ]
    }
   ],
   "source": [
    "print(X_train.shape)\n",
    "print(y_train.shape)\n"
   ]
  },
  {
   "cell_type": "code",
   "execution_count": 11,
   "metadata": {},
   "outputs": [
    {
     "data": {
      "image/png": "[encoded data removed]",
      "text/plain": [
       "<matplotlib.figure.Figure at 0x2166ea70710>"
      ]
     },
     "metadata": {},
     "output_type": "display_data"
    }
   ],
   "source": [
    "\n",
    "plt.subplot(221)\n",
    "plt.imshow(X_train[0] , cmap = plt.get_cmap('gray'))\n",
    "plt.show()"
   ]
  },
  {
   "cell_type": "code",
   "execution_count": 34,
   "metadata": {},
   "outputs": [
    {
     "data": {
      "image/png": "[encoded data removed]",
      "text/plain": [
       "<matplotlib.figure.Figure at 0x1c3b9e5ef98>"
      ]
     },
     "metadata": {},
     "output_type": "display_data"
    }
   ],
   "source": [
    "plt.subplot(222)\n",
    "plt.imshow(X_train[0] , cmap = plt.get_cmap('gray'))\n",
    "plt.show()"
   ]
  },
  {
   "cell_type": "code",
   "execution_count": 12,
   "metadata": {},
   "outputs": [
    {
     "name": "stdout",
     "output_type": "stream",
     "text": [
      "X_train shape (60000, 28, 28)\n",
      "y_train shape (60000,)\n",
      "X_test shape (10000, 28, 28)\n",
      "y_test shape (10000,)\n",
      "Train matrix shape (60000, 784)\n",
      "Test matrix shape (10000, 784)\n"
     ]
    }
   ],
   "source": [
    "# let's print the shape before we reshape and normalize\n",
    "print(\"X_train shape\", X_train.shape)\n",
    "print(\"y_train shape\", y_train.shape)\n",
    "print(\"X_test shape\", X_test.shape)\n",
    "print(\"y_test shape\", y_test.shape)\n",
    "\n",
    "# building the input vector from the 28x28 pixels\n",
    "X_train = X_train.reshape(60000, 784)\n",
    "X_test = X_test.reshape(10000, 784)\n",
    "X_train = X_train.astype('float32')\n",
    "X_test = X_test.astype('float32')\n",
    "\n",
    "# normalizing the data to help with the training\n",
    "X_train /= 255\n",
    "X_test /= 255\n",
    "\n",
    "# print the final input shape ready for training\n",
    "print(\"Train matrix shape\", X_train.shape)\n",
    "print(\"Test matrix shape\", X_test.shape)"
   ]
  },
  {
   "cell_type": "code",
   "execution_count": 14,
   "metadata": {},
   "outputs": [
    {
     "name": "stdout",
     "output_type": "stream",
     "text": [
      "(array([0, 1, 2, 3, 4, 5, 6, 7, 8, 9], dtype=uint8), array([5923, 6742, 5958, 6131, 5842, 5421, 5918, 6265, 5851, 5949],\n",
      "      dtype=int64))\n"
     ]
    }
   ],
   "source": [
    "import numpy as np\n",
    "print(np.unique(y_train, return_counts=True))"
   ]
  },
  {
   "cell_type": "code",
   "execution_count": 34,
   "metadata": {},
   "outputs": [
    {
     "name": "stdout",
     "output_type": "stream",
     "text": [
      "Shape before one-hot encoding:  (60000,)\n",
      "Shape after one-hot encoding:  (60000, 10)\n"
     ]
    }
   ],
   "source": [
    "# one-hot encoding using keras' numpy-related utilities\n",
    "from keras.utils import np_utils\n",
    "n_classes = 10\n",
    "print(\"Shape before one-hot encoding: \", y_train.shape)\n",
    "y_train = np_utils.to_categorical(y_train, n_classes)\n",
    "y_test = np_utils.to_categorical(y_test, n_classes)\n",
    "print(\"Shape after one-hot encoding: \", Y_train.shape)"
   ]
  },
  {
   "cell_type": "code",
   "execution_count": 72,
   "metadata": {},
   "outputs": [],
   "source": [
    "# building a linear stack of layers with the sequential model\n",
    "model = Sequential()\n",
    "model.add(Dense(512, input_shape=(784,)))\n",
    "model.add(Activation('relu'))                            \n",
    "model.add(Dropout(0.2))\n",
    "\n",
    "model.add(Dense(512))\n",
    "model.add(Activation('relu'))\n",
    "model.add(Dropout(0.2))\n",
    "\n",
    "model.add(Dense(512))\n",
    "model.add(Activation('relu'))\n",
    "model.add(Dropout(0.2))\n",
    "\n",
    "model.add(Dense(10))\n",
    "model.add(Activation('softmax'))"
   ]
  },
  {
   "cell_type": "code",
   "execution_count": 83,
   "metadata": {
    "collapsed": true
   },
   "outputs": [],
   "source": [
    "# compiling the sequential model\n",
    "model.compile(loss='categorical_crossentropy', metrics=['accuracy'], optimizer='adam')"
   ]
  },
  {
   "cell_type": "code",
   "execution_count": 84,
   "metadata": {},
   "outputs": [
    {
     "name": "stdout",
     "output_type": "stream",
     "text": [
      "Train on 60000 samples, validate on 10000 samples\n",
      "Epoch 1/20\n",
      " - 22s - loss: 0.0106 - acc: 0.9966 - val_loss: 0.0881 - val_acc: 0.9829\n",
      "Epoch 2/20\n",
      " - 21s - loss: 0.0079 - acc: 0.9973 - val_loss: 0.0854 - val_acc: 0.9854\n",
      "Epoch 3/20\n",
      " - 23s - loss: 0.0071 - acc: 0.9978 - val_loss: 0.0850 - val_acc: 0.9858\n",
      "Epoch 4/20\n",
      " - 21s - loss: 0.0082 - acc: 0.9975 - val_loss: 0.0848 - val_acc: 0.9851\n",
      "Epoch 5/20\n",
      " - 21s - loss: 0.0076 - acc: 0.9977 - val_loss: 0.0843 - val_acc: 0.9852\n",
      "Epoch 6/20\n",
      " - 21s - loss: 0.0084 - acc: 0.9975 - val_loss: 0.0811 - val_acc: 0.9856\n",
      "Epoch 7/20\n",
      " - 21s - loss: 0.0071 - acc: 0.9979 - val_loss: 0.0835 - val_acc: 0.9843\n",
      "Epoch 8/20\n",
      " - 21s - loss: 0.0064 - acc: 0.9980 - val_loss: 0.0905 - val_acc: 0.9850\n",
      "Epoch 9/20\n",
      " - 21s - loss: 0.0047 - acc: 0.9985 - val_loss: 0.0889 - val_acc: 0.9841\n",
      "Epoch 10/20\n",
      " - 21s - loss: 0.0084 - acc: 0.9974 - val_loss: 0.0834 - val_acc: 0.9859\n",
      "Epoch 11/20\n",
      " - 23s - loss: 0.0072 - acc: 0.9977 - val_loss: 0.0801 - val_acc: 0.9841\n",
      "Epoch 12/20\n",
      " - 25s - loss: 0.0064 - acc: 0.9979 - val_loss: 0.0842 - val_acc: 0.9848\n",
      "Epoch 13/20\n",
      " - 22s - loss: 0.0071 - acc: 0.9979 - val_loss: 0.0913 - val_acc: 0.9834\n",
      "Epoch 14/20\n",
      " - 22s - loss: 0.0071 - acc: 0.9978 - val_loss: 0.0858 - val_acc: 0.9846\n",
      "Epoch 15/20\n",
      " - 22s - loss: 0.0067 - acc: 0.9982 - val_loss: 0.0876 - val_acc: 0.9849\n",
      "Epoch 16/20\n",
      " - 21s - loss: 0.0060 - acc: 0.9982 - val_loss: 0.0912 - val_acc: 0.9849\n",
      "Epoch 17/20\n",
      " - 21s - loss: 0.0050 - acc: 0.9985 - val_loss: 0.0803 - val_acc: 0.9861\n",
      "Epoch 18/20\n",
      " - 22s - loss: 0.0038 - acc: 0.9990 - val_loss: 0.0831 - val_acc: 0.9850\n",
      "Epoch 19/20\n",
      " - 21s - loss: 0.0054 - acc: 0.9986 - val_loss: 0.0883 - val_acc: 0.9853\n",
      "Epoch 20/20\n",
      " - 21s - loss: 0.0075 - acc: 0.9979 - val_loss: 0.0707 - val_acc: 0.9857\n",
      "436.17997694015503\n"
     ]
    }
   ],
   "source": [
    "import time\n",
    "start = time.time()\n",
    "\n",
    "history = model.fit(X_train, Y_train,\n",
    "          batch_size=500, epochs=20,\n",
    "          verbose=2,\n",
    "          validation_data=(X_test, Y_test))\n",
    "end = time.time()\n",
    "print(end - start)"
   ]
  },
  {
   "cell_type": "code",
   "execution_count": 78,
   "metadata": {},
   "outputs": [
    {
     "data": {
      "image/png": "[encoded data removed]",
      "text/plain": [
       "<matplotlib.figure.Figure at 0x2161da85278>"
      ]
     },
     "execution_count": 78,
     "metadata": {},
     "output_type": "execute_result"
    }
   ],
   "source": [
    "# plotting the metrics\n",
    "fig = plt.figure()\n",
    "plt.subplot(2,1,1)\n",
    "plt.plot(history.history['acc'])\n",
    "plt.plot(history.history['val_acc'])\n",
    "plt.title('model accuracy')\n",
    "plt.ylabel('accuracy')\n",
    "plt.xlabel('epoch')\n",
    "plt.legend(['train', 'test'], loc='lower right')\n",
    "\n",
    "plt.subplot(2,1,2)\n",
    "plt.plot(history.history['loss'])\n",
    "plt.plot(history.history['val_loss'])\n",
    "plt.title('model loss')\n",
    "plt.ylabel('loss')\n",
    "plt.xlabel('epoch')\n",
    "plt.legend(['train', 'test'], loc='upper right')\n",
    "\n",
    "plt.tight_layout()\n",
    "\n",
    "fig"
   ]
  },
  {
   "cell_type": "code",
   "execution_count": 22,
   "metadata": {
    "collapsed": true
   },
   "outputs": [],
   "source": [
    "import os\n",
    "save_dir = 'C:/Users/Luan/Documents/'\n",
    "model_name = 'MNIST_KERAS.h5'\n",
    "model_path = os.path.join(save_dir , model_name)\n",
    "model.save(model_path)"
   ]
  },
  {
   "cell_type": "code",
   "execution_count": null,
   "metadata": {
    "collapsed": true
   },
   "outputs": [],
   "source": [
    "model = load_model(model_path)"
   ]
  },
  {
   "cell_type": "code",
   "execution_count": 85,
   "metadata": {},
   "outputs": [
    {
     "name": "stdout",
     "output_type": "stream",
     "text": [
      "test loss  0.07067363798904439\n",
      "test accurancy 0.9857\n"
     ]
    }
   ],
   "source": [
    "\n",
    "loss_and_metrics = model.evaluate(X_test , y_test , verbose = 2)\n",
    "\n",
    "print('test loss ' , loss_and_metrics[0])\n",
    "print('test accurancy' , loss_and_metrics[1])"
   ]
  },
  {
   "cell_type": "code",
   "execution_count": 87,
   "metadata": {},
   "outputs": [],
   "source": [
    "predict = model.predict_classes(X_test)"
   ]
  },
  {
   "cell_type": "code",
   "execution_count": 90,
   "metadata": {},
   "outputs": [
    {
     "name": "stderr",
     "output_type": "stream",
     "text": [
      "E:\\dev\\Anaconda3\\envs\\keras_with_python3\\lib\\site-packages\\matplotlib\\cbook\\deprecation.py:106: MatplotlibDeprecationWarning: Adding an axes using the same arguments as a previous axes currently reuses the earlier instance.  In a future version, a new instance will always be created and returned.  Meanwhile, this warning can be suppressed, and the future behavior ensured, by passing a unique label to each axes instance.\n",
      "  warnings.warn(message, mplDeprecation, stacklevel=1)\n"
     ]
    },
    {
     "data": {
      "image/png": "[encoded data removed]",
      "text/plain": [
       "<matplotlib.figure.Figure at 0x216185216a0>"
      ]
     },
     "metadata": {},
     "output_type": "display_data"
    },
    {
     "name": "stdout",
     "output_type": "stream",
     "text": [
      "9\n"
     ]
    },
    {
     "data": {
      "image/png": "[encoded data removed]",
      "text/plain": [
       "<matplotlib.figure.Figure at 0x2161dca3da0>"
      ]
     },
     "metadata": {},
     "output_type": "display_data"
    },
    {
     "name": "stdout",
     "output_type": "stream",
     "text": [
      "7\n"
     ]
    },
    {
     "data": {
      "image/png": "[encoded data removed]",
      "text/plain": [
       "<matplotlib.figure.Figure at 0x2161ca0d320>"
      ]
     },
     "metadata": {},
     "output_type": "display_data"
    },
    {
     "name": "stdout",
     "output_type": "stream",
     "text": [
      "6\n"
     ]
    },
    {
     "data": {
      "image/png": "[encoded data removed]",
      "text/plain": [
       "<matplotlib.figure.Figure at 0x2161f09ddd8>"
      ]
     },
     "metadata": {},
     "output_type": "display_data"
    },
    {
     "name": "stdout",
     "output_type": "stream",
     "text": [
      "6\n"
     ]
    }
   ],
   "source": [
    "plt.subplot(223)\n",
    "plt.imshow(X_test[1000].reshape(28,28) , cmap = plt.get_cmap('gray'))\n",
    "plt.show()\n",
    "print(predict[1000])\n",
    "\n",
    "plt.subplot(224)\n",
    "plt.imshow(X_test[1100].reshape(28,28) , cmap = plt.get_cmap('gray'))\n",
    "plt.show()\n",
    "print(predict[1100])\n",
    "\n",
    "plt.subplot(221)\n",
    "plt.imshow(X_test[2000].reshape(28,28) , cmap = plt.get_cmap('gray'))\n",
    "plt.show()\n",
    "print(predict[2000])\n",
    "\n",
    "plt.subplot(222)\n",
    "plt.imshow(X_test[3000].reshape(28,28) , cmap = plt.get_cmap('gray'))\n",
    "plt.show()\n",
    "print(predict[3000])"
   ]
  },
  {
   "cell_type": "code",
   "execution_count": null,
   "metadata": {
    "collapsed": true
   },
   "outputs": [],
   "source": []
  }
 ],
 "metadata": {
  "kernelspec": {
   "display_name": "Python 3",
   "language": "python",
   "name": "python3"
  },
  "language_info": {
   "codemirror_mode": {
    "name": "ipython",
    "version": 3
   },
   "file_extension": ".py",
   "mimetype": "text/x-python",
   "name": "python",
   "nbconvert_exporter": "python",
   "pygments_lexer": "ipython3",
   "version": "3.6.3"
  }
 },
 "nbformat": 4,
 "nbformat_minor": 2
}
